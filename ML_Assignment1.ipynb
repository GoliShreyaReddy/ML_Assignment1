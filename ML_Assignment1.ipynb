{
  "nbformat": 4,
  "nbformat_minor": 0,
  "metadata": {
    "colab": {
      "provenance": [],
      "authorship_tag": "ABX9TyOqZre0Y487Mw+C4qd81BVz",
      "include_colab_link": true
    },
    "kernelspec": {
      "name": "python3",
      "display_name": "Python 3"
    },
    "language_info": {
      "name": "python"
    }
  },
  "cells": [
    {
      "cell_type": "markdown",
      "metadata": {
        "id": "view-in-github",
        "colab_type": "text"
      },
      "source": [
        "<a href=\"https://colab.research.google.com/github/GoliShreyaReddy/ML_Assignment1/blob/main/ML_Assignment1.ipynb\" target=\"_parent\"><img src=\"https://colab.research.google.com/assets/colab-badge.svg\" alt=\"Open In Colab\"/></a>"
      ]
    },
    {
      "cell_type": "code",
      "source": [
        "import pandas as pd\n",
        "\n",
        "# Step 1: Read the provided CSV file\n",
        "file_path = '/content/data.csv'\n",
        "df = pd.read_csv(file_path)\n",
        "\n",
        "# Step 2: Show the basic statistical description about the data\n",
        "description = df.describe()\n",
        "\n",
        "# Step 3: Check if the data has null values\n",
        "null_values = df.isnull().sum()\n",
        "\n",
        "# Step 4: Replace the null values with the mean\n",
        "df.fillna(df.mean(), inplace=True)\n",
        "\n",
        "# Step 5: Select at least two columns and aggregate the data using: min, max, count, mean\n",
        "aggregated_data = df[['Calories', 'Pulse']].agg(['min', 'max', 'count', 'mean'])\n",
        "\n",
        "# Step 6: Filter the dataframe to select the rows with calories values between 500 and 1000\n",
        "filtered_df1 = df[(df['Calories'] >= 500) & (df['Calories'] <= 1000)]\n",
        "\n",
        "# Step 7: Filter the dataframe to select the rows with calories values > 500 and pulse < 100\n",
        "filtered_df2 = df[(df['Calories'] > 500) & (df['Pulse'] < 100)]\n",
        "\n",
        "# Step 8: Create a new “df_modified” dataframe that contains all the columns from df except for “Maxpulse”\n",
        "df_modified = df.drop(columns=['Maxpulse'])\n",
        "\n",
        "# Step 9: Delete the “Maxpulse” column from the main df dataframe\n",
        "df.drop(columns=['Maxpulse'], inplace=True)\n",
        "\n",
        "# Step 10: Convert the datatype of Calories column to int datatype\n",
        "df['Calories'] = df['Calories'].astype(int)\n",
        "\n",
        "(df.head(), description, null_values, aggregated_data, filtered_df1.head(), filtered_df2.head(), df_modified.head())\n"
      ],
      "metadata": {
        "colab": {
          "base_uri": "https://localhost:8080/"
        },
        "id": "mH7pBtmtj4Fu",
        "outputId": "6b67165f-9297-4fab-e9a5-bb3685d3d301"
      },
      "execution_count": null,
      "outputs": [
        {
          "output_type": "execute_result",
          "data": {
            "text/plain": [
              "(   Duration  Pulse  Calories\n",
              " 0        60    110       409\n",
              " 1        60    117       479\n",
              " 2        60    103       340\n",
              " 3        45    109       282\n",
              " 4        45    117       406,\n",
              "          Duration       Pulse    Maxpulse     Calories\n",
              " count  169.000000  169.000000  169.000000   164.000000\n",
              " mean    63.846154  107.461538  134.047337   375.790244\n",
              " std     42.299949   14.510259   16.450434   266.379919\n",
              " min     15.000000   80.000000  100.000000    50.300000\n",
              " 25%     45.000000  100.000000  124.000000   250.925000\n",
              " 50%     60.000000  105.000000  131.000000   318.600000\n",
              " 75%     60.000000  111.000000  141.000000   387.600000\n",
              " max    300.000000  159.000000  184.000000  1860.400000,\n",
              " Duration    0\n",
              " Pulse       0\n",
              " Maxpulse    0\n",
              " Calories    5\n",
              " dtype: int64,\n",
              "           Calories       Pulse\n",
              " min      50.300000   80.000000\n",
              " max    1860.400000  159.000000\n",
              " count   169.000000  169.000000\n",
              " mean    375.790244  107.461538,\n",
              "     Duration  Pulse  Maxpulse  Calories\n",
              " 51        80    123       146     643.1\n",
              " 62       160    109       135     853.0\n",
              " 65       180     90       130     800.4\n",
              " 66       150    105       135     873.4\n",
              " 67       150    107       130     816.0,\n",
              "     Duration  Pulse  Maxpulse  Calories\n",
              " 65       180     90       130     800.4\n",
              " 70       150     97       129    1115.0\n",
              " 73       150     97       127     953.2\n",
              " 75        90     98       125     563.2\n",
              " 99        90     93       124     604.1,\n",
              "    Duration  Pulse  Calories\n",
              " 0        60    110     409.1\n",
              " 1        60    117     479.0\n",
              " 2        60    103     340.0\n",
              " 3        45    109     282.4\n",
              " 4        45    117     406.0)"
            ]
          },
          "metadata": {},
          "execution_count": 1
        }
      ]
    }
  ]
}